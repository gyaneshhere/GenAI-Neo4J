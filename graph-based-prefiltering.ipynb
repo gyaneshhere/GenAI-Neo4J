{
 "cells": [
  {
   "cell_type": "code",
   "execution_count": 7,
   "id": "c2b84b87-b03c-4859-8b0e-596b4ec2f873",
   "metadata": {},
   "outputs": [],
   "source": [
    "!pip install --quiet langchain langchain-community langchain-openai neo4j"
   ]
  },
  {
   "cell_type": "code",
   "execution_count": 8,
   "id": "c0c7d7e2-ffbe-4cbc-af8f-40ee970c7f49",
   "metadata": {},
   "outputs": [],
   "source": [
    "import os\n",
    "from typing import Dict, List, Optional, Tuple, Type\n",
    "\n",
    "from langchain.agents import AgentExecutor\n",
    "from langchain.agents.format_scratchpad import format_to_openai_function_messages\n",
    "from langchain.agents.output_parsers import OpenAIFunctionsAgentOutputParser\n",
    "from langchain.callbacks.manager import CallbackManagerForToolRun\n",
    "from langchain.pydantic_v1 import BaseModel, Field\n",
    "from langchain_core.prompts import ChatPromptTemplate, MessagesPlaceholder\n",
    "from langchain_core.messages import AIMessage, HumanMessage\n",
    "from langchain_core.utils.function_calling import convert_to_openai_function\n",
    "from langchain.tools import BaseTool\n",
    "from langchain_openai import ChatOpenAI, OpenAIEmbeddings\n",
    "\n",
    "from langchain_community.graphs import Neo4jGraph\n",
    "from langchain_community.vectorstores import Neo4jVector\n",
    "from langchain_community.vectorstores.neo4j_vector import remove_lucene_chars"
   ]
  },
  {
   "cell_type": "code",
   "execution_count": 11,
   "id": "80b27d94-9d21-460f-9884-28a6d0aa52e0",
   "metadata": {},
   "outputs": [],
   "source": [
    "import os\n",
    "\n",
    "os.environ[\"OPENAI_API_KEY\"] = \"s\"\n",
    "os.environ[\"NEO4J_URI\"] = \"neo4j+ssc://demo.neo4jlabs.com\"\n",
    "os.environ[\"NEO4J_USERNAME\"] = \"companies\"\n",
    "os.environ[\"NEO4J_PASSWORD\"] = \"companies\"\n",
    "os.environ[\"NEO4J_DATABASE\"] = \"companies\""
   ]
  },
  {
   "cell_type": "code",
   "execution_count": 12,
   "id": "934ca597-a79c-4122-8a62-eb7947330661",
   "metadata": {},
   "outputs": [],
   "source": [
    "embeddings = OpenAIEmbeddings()\n",
    "graph = Neo4jGraph()\n",
    "vector_index = Neo4jVector.from_existing_index(\n",
    "    embeddings,\n",
    "    index_name=\"news\"\n",
    ")"
   ]
  },
  {
   "cell_type": "code",
   "execution_count": 13,
   "id": "630054d2-b629-4e7e-8730-1ee96591147f",
   "metadata": {},
   "outputs": [],
   "source": [
    "# Code for mapping organizations from user input to database using Full-text index\n",
    "def generate_full_text_query(input: str) -> str:\n",
    "    \"\"\"\n",
    "    Generate a full-text search query for a given input string.\n",
    "\n",
    "    This function constructs a query string suitable for a full-text search.\n",
    "    It processes the input string by splitting it into words and appending a\n",
    "    similarity threshold (~0.8) to each word, then combines them using the AND\n",
    "    operator. Useful for mapping movies and people from user questions\n",
    "    to database values, and allows for some misspelings.\n",
    "    \"\"\"\n",
    "    full_text_query = \"\"\n",
    "    words = [el for el in remove_lucene_chars(input).split() if el]\n",
    "    for word in words[:-1]:\n",
    "        full_text_query += f\" {word}~2 AND\"\n",
    "    full_text_query += f\" {words[-1]}~2\"\n",
    "    return full_text_query.strip()\n",
    "\n",
    "candidate_query = \"\"\"\n",
    "CALL db.index.fulltext.queryNodes($index, $fulltextQuery, {limit: $limit})\n",
    "YIELD node\n",
    "WHERE node:Organization // Filter organization nodes\n",
    "RETURN distinct node.name AS candidate\n",
    "\"\"\"\n",
    "\n",
    "\n",
    "def get_candidates(input: str, limit: int = 5) -> List[Dict[str, str]]:\n",
    "    \"\"\"\n",
    "    Retrieve a list of candidate entities from database based on the input string.\n",
    "\n",
    "    This function queries the Neo4j database using a full-text search. It takes the\n",
    "    input string, generates a full-text query, and executes this query against the\n",
    "    specified index in the database. The function returns a list of candidates\n",
    "    matching the query.\n",
    "    \"\"\"\n",
    "    ft_query = generate_full_text_query(input)\n",
    "    candidates = graph.query(\n",
    "        candidate_query, {\"fulltextQuery\": ft_query, \"index\": 'entity', \"limit\": limit}\n",
    "    )\n",
    "    # If there is direct match return only that, otherwise return all options\n",
    "    direct_match = [el[\"candidate\"] for el in candidates if el[\"candidate\"].lower() == input.lower()]\n",
    "    if direct_match:\n",
    "        return direct_match\n",
    "\n",
    "    return [el[\"candidate\"] for el in candidates]"
   ]
  },
  {
   "cell_type": "code",
   "execution_count": 14,
   "id": "52524e70-f10e-4143-8e27-c321446373c6",
   "metadata": {},
   "outputs": [
    {
     "data": {
      "text/plain": [
       "['Net4', 'Neo4j', 'Neos', 'Neo', 'Neon Software']"
      ]
     },
     "execution_count": 14,
     "metadata": {},
     "output_type": "execute_result"
    }
   ],
   "source": [
    "get_candidates(\"neo4\")"
   ]
  },
  {
   "cell_type": "code",
   "execution_count": 15,
   "id": "3d747d2b-f3dd-4562-973e-1a0449d614dc",
   "metadata": {},
   "outputs": [],
   "source": [
    "def get_organization_news(\n",
    "    topic: Optional[str] = None,\n",
    "    organization: Optional[str] = None,\n",
    "    country: Optional[str] = None,\n",
    "    sentiment: Optional[str] = None,\n",
    ") -> str:\n",
    "    # If there is no prefiltering, we can use vector index\n",
    "    if topic and not organization and not country and not sentiment:\n",
    "        return vector_index.similarity_search(topic)\n",
    "    # Uses parallel runtime where available\n",
    "    base_query = (\n",
    "        \"CYPHER runtime = parallel parallelRuntimeSupport=all \"\n",
    "        \"MATCH (c:Chunk)<-[:HAS_CHUNK]-(a:Article) WHERE \"\n",
    "    )\n",
    "    where_queries = []\n",
    "    params = {\"k\": 5}  # Define the number of text chunks to retrieve\n",
    "    if organization:\n",
    "        # Map to database\n",
    "        candidates = get_candidates(organization)\n",
    "        if len(candidates) > 1:  # Ask for follow up if too many options\n",
    "            return (\n",
    "                \"Ask a follow up question which of the available organizations \"\n",
    "                f\"did the user mean. Available options: {candidates}\"\n",
    "            )\n",
    "        where_queries.append(\n",
    "            \"EXISTS {(a)-[:MENTIONS]->(:Organization {name: $organization})}\"\n",
    "        )\n",
    "        params[\"organization\"] = candidates[0]\n",
    "    if country:\n",
    "        # No need to disambiguate\n",
    "        where_queries.append(\n",
    "            \"EXISTS {(a)-[:MENTIONS]->(:Organization)-[:IN_CITY]->()-[:IN_COUNTRY]->(:Country {name: $country})}\"\n",
    "        )\n",
    "        params[\"country\"] = country\n",
    "\n",
    "    if sentiment:\n",
    "        if sentiment == \"positive\":\n",
    "            where_queries.append(\"a.sentiment > $sentiment\")\n",
    "            params[\"sentiment\"] = 0.5\n",
    "        else:\n",
    "            where_queries.append(\"a.sentiment < $sentiment\")\n",
    "            params[\"sentiment\"] = -0.5\n",
    "    if topic:  # Do vector comparison\n",
    "        vector_snippet = (\n",
    "            \" WITH c, a, vector.similarity.cosine(c.embedding,$embedding) AS score \"\n",
    "            \"ORDER BY score DESC LIMIT toInteger($k) \"\n",
    "        )\n",
    "        params[\"embedding\"] = embeddings.embed_query(topic)\n",
    "        params[\"topic\"] = topic\n",
    "    else:  # Just return the latest data\n",
    "        vector_snippet = \" WITH c, a ORDER BY a.date DESC LIMIT toInteger($k) \"\n",
    "\n",
    "    return_snippet = \"RETURN '#title ' + a.title + '\\n#date ' + toString(a.date) + '\\n#text ' + c.text AS output\"\n",
    "\n",
    "    complete_query = (\n",
    "        base_query + \" AND \".join(where_queries) + vector_snippet + return_snippet\n",
    "    )\n",
    "    data = graph.query(complete_query, params)\n",
    "    print(f\"Cypher: {complete_query}\\n\")\n",
    "    # Safely remove embedding before printing\n",
    "    params.pop('embedding', None)\n",
    "    print(f\"Parameters: {params}\")\n",
    "    return \"###Article: \".join([el[\"output\"] for el in data])"
   ]
  },
  {
   "cell_type": "code",
   "execution_count": 16,
   "id": "7324cf41-b8b5-4174-bc0f-6c6120df6443",
   "metadata": {},
   "outputs": [
    {
     "name": "stdout",
     "output_type": "stream",
     "text": [
      "Cypher: CYPHER runtime = parallel parallelRuntimeSupport=all MATCH (c:Chunk)<-[:HAS_CHUNK]-(a:Article) WHERE EXISTS {(a)-[:MENTIONS]->(:Organization {name: $organization})} AND a.sentiment > $sentiment WITH c, a, vector.similarity.cosine(c.embedding,$embedding) AS score ORDER BY score DESC LIMIT toInteger($k) RETURN '#title ' + a.title + '\n",
      "#date ' + toString(a.date) + '\n",
      "#text ' + c.text AS output\n",
      "\n",
      "Parameters: {'k': 5, 'organization': 'Neo4j', 'sentiment': 0.5, 'topic': 'remote work'}\n"
     ]
    },
    {
     "data": {
      "text/plain": [
       "'#title Accounts in Transit: Ruder Finn Adds Neo4j\\n#date 2023-04-27T00:00:00Z\\n#text Ruder Finn signs on as North American agency of record for Neo4j, a native graph database and analytics company. The agency will be responsible for implementing an integrated communications program, as well as working to amplify awareness of the company and category. The scope of work will include strategic media relations and executive communications to support corporate and product PR. Antonia Caamaño, SVP of RF Tech, will lead the Ruder Finn team handling the account out of New York. \"We chose Ruder Finn to achieve our next stage of awareness because of the agency\\'s experience in enterprise IT and deep tech, which allows them to deliver smart strategies and creative executions, as well as their long-running relationships with top-tier media,” said Neo4j CMO Chandra Rangan.\\nOak Public Relations is named communications agency of record for Custom Cones USA, which produces supplies for cannabis pre-rolls and other cannabis packaging solutions. The agency will work to expand the presence of Custom Cones USA at conferences and trade shows, as well as publicize the company’s blog content, and introduce its leadership as industry experts to targeted media. “The Custom Cones USA and Oak PR teams align in our passion and dedication working at helping the industry grow, making Oak PR the perfect partner for this next step,” said Custom Cones USA co-founder Harrison Baird.\\nThe Sideways Life signs on as PR agency of record for Utu, a skincare brand targeted at outdoor enthusiasts. The agency will handle all public relations activities for Utu, including media relations, gifting and brand partnerships. Utu founder Richard Welch has worked with brands like Tom Ford, Nokia, Estee Lauder, Axe, Diesel, REN and The North Face. Welch said that The Sideways Life’s “expertise in the outdoor and adventure space, combined with their nimble and collaborative approach to PR, makes them the perfect partner for Utu.”\\n•\\nAccounts in Transit: Havas Formula Lands Mixbook\\nFri., Apr. 28, 2023\\nHavas Formula picks up Mixbook, the No. 1-rated photo book brand... Magrino works with Royal Salute, an aged, blended Scotch whisky, and luxury retailer Fortnum & Mason on initiatives centered around the May 6 coronation of King Charles III... Ripson Group adds Near North Health and Banging Gavel Brews to its client roster.\\n•\\nAccounts in Transit: Coyne PR Picks Up Signature Wafer & Chocolate Co.\\nWed., Apr. 26, 2023\\nCoyne PR is partnering with Signature Wafer & Chocolate Co., the largest wafer manufacturer in the U.S... Firecracker PR signs on to represent Bridge 2 Technologies... Quad agencies Periscope and Rise Interactive are named marketing agencies of record for Jelmar, which makes household cleaning products.\\n•\\nAccounts in Transit: Pan Communications Lands Venti Technologies\\nFri., Apr. 21, 2023\\nPAN Communications adds Venti Technologies... 360PR+ lands skin creative product division at consumer goods company BIC... William Mills Agency wins PR duties for fintech startup Union Credit.\\n•\\nAccounts in Transit: Finn Partners Books Blue Diamond Resorts\\nWed., Apr. 19, 2023\\nFINN Partners books Blue Diamond Resorts, which owns all-inclusive hotel brands across the Caribbean region... Zapwater Communications is retained by Activate Games to unveil its new Chicago location... Allen & Gerritsen lands brand agency of record status for Freight Farms, a manufacturer of container farming technology.###Article: #title Neo4j Announces New Product Integrations with Generative AI Features in Google Cloud Vertex AI\\n#date 2023-06-07T13:00:00Z\\n#text \\'s partnership with Google represents a powerful union of graph technology and cloud computing excellence in a new era of AI,\" said Emil Eifrem, Co-Founder and CEO, Neo4j. \"Together, we empower enterprises seeking to leverage generative AI to better innovate, provide the best outcome for their customers, and unlock the true power of their connected data at unprecedented speed.\"\\nAbout Neo4j\\nNeo4j, the Graph Database & Analytics leader, helps organizations find hidden relationships and patterns across billions of data connections deeply, easily and quickly. Customers leverage the structure of their connected data to reveal new ways of solving their most pressing business problems, from fraud detection, customer 360, knowledge graphs, supply chain, personalization, IoT, network management, and more – even as their data grows. Neo4j\\'s full graph stack delivers powerful native graph storage, data science, advanced analytics, and visualization, with enterprise-grade security controls, scalable architecture and ACID compliance. Neo4j\\'s community of data leaders comprises a vibrant, open-source community of more than 250,000 developers, data scientists, and architects across hundreds of Fortune 500 companies, government agencies and NGOs. Visit neo4j.com.\\nContact:\\npr@neo4j.com\\nneo4j.com/pr\\n© 2022 Neo4j, Inc., Neo Technology®, Neo4j®, Cypher®, Neo4j® Bloom™, Neo4j Graph Data Science Library™, Neo4j® Aura™, Neo4j® AuraDS™, and Neo4j® AuraDB™ are registered trademarks or a trademark of Neo4j, Inc. All other marks are owned by their respective companies.\\nSOURCE Neo4j###Article: #title DXC Technology snags award at Neo4j GraphSummit Australia\\n#date 2023-05-09T03:05:00Z\\n#text Graph database and analytics company Neo4j announced the winners of the 2023 Graphie Awards in Australia and New Zealand, where DXC Technology was awarded.\\nNeo4j aimed to recognise organisations and individuals for “outstanding innovation in implementing Neo4j’s graph technology.”\\nThe awards ceremony was held during the 2023 GraphSummit Australia in Sydney, Canberra and Melbourne from 3 to 9 May.\\nThe successful entrants were selected based on their exemplary use of graph technology to address the most significant enterprise challenges.\\nIT provider DXC technology was awarded for its Excellence in Data Driven Career Development.\\nGraphSummit also featured key Neo4j community leaders and local customers showcasing the most promising applications of graph technology in their respective fields.\\nThis included DXC Technology’s human experience management and workforce management data analytics Michele Howard.\\nOthers acknowledged included GraphAware’s general manager ANZ Dan Newland and InterVenn BioSciences manager Matthew Campbel.\\nNeo4j general manager ANZ Peter Philipp said: “we are excited to celebrate these exceptional organisations who are successfully tackling the complexities of digital ecosystems with graph technology.”\\n“It was a challenge to select the winners from an impressive list of finalists – we can’t wait to see them further excel with Neo4j playing a pivotal role,” he added.###Article: #title This Week in Neo4j – Will it Graph, Python Database Backups, Knowledge Graphs, Kinesis, and Kanye West\\n#date 2021-08-07T00:00:00Z\\n#text It’s August and many of us are thinking about taking a restful break from work for the month, or perhaps returning our kids to school. However, our community members are hard at work generating some great things with Neo4j!\\nThis week, we’re taking the opportunity to highlight Katerina Baousi, who gave an excellent talk at NODES 2021 on looking at Twitter trolls using Neo4j. We also have posts ranging from identifying graphy problems and using temporary graphs for unit testing to how to go from AWS Kinesis to Neo4j in Spark. There’s also an article showing how NASA is using knowledge graphs to manage people, skills, and projects. Lastly, you will not want to miss the fun of going through the Six Degrees of Kanye West!\\nFeatured Community Member: Katerina Baousi\\nThis week’s featured community member is Katerina Baousi.\\nKaterina is a solutions engineer at Cambridge Intelligence. She has a great deal of skill in a broad variety of areas, including web development and data visualization. Her work at Cambridge Intelligence is focused on the KronoGraph tool for exploring timeline analysis within graph data. She also gave an excellent talk at NODES 2021 on Timeseries Visualization of Social Networks with Neo4j.\\nWill It Graph? (Part 2)\\nIn this episode of GraphStuff.FM, Neo4j’s own Lju Lazarevic and William Lyon present information on how to identify whether you have a “graphy” problem and how to know whether a graph database is the right fit for your problem. This is the second part of a series on the topic. Part 1 can be found here.\\nOne key indicator they discuss is that having a lot of JOINs in a typical workflow is a big hint that you may have a graphy problem, since multi-hop traversals can be expensive. This is particularly beneficial when you don’t know how many connections you are interested in at query time (i.e. a variable-length graph traversal). Some examples that they provided include fraud detection and network and IT management.\\nA New Tool to Back Up a Neo4j Database with Python\\nAre you interested in downloading and uploading data into a Neo4j database where using dump files is not an option? Would you like to be able to store your data in different formats, thus allowing, say, easily changing which version of Neo4j you are using? Would you like an open source Python package that is capable of doing so, installable via pip? Then check out the code that Andres Hyer has written to do just that. You can use it on AuraDB, with Docker, via the command-line, or pretty much any way you want. Check it out!\\nNODES 2021 Extended: Semantic AI Platform; What is the Theta Base\\nWe are now in full swing with the NODES 2021 extended talks, which build off the excitement from NODES 2021 with even more high-quality talks.\\nSo we are taking the opportunity to highlight the talks of two users. The first is Siddharth Karumanchi, founding research scientist at QUIPI, who presented a talk entitled “Semantic AI Platform.” The goal of this work is to present the context for enterprise domain knowledge in a convenient way. He showed how to semantically enrich a knowledge graph to aid in text mining and natural language processing problems like entity extraction and disambiguation.\\nThe second talk was presented by Elias Moosman, co-founder of Youiest, who discussed the Theta Base. In this talk, he shared how pulling together thought, data, and ownership can be used to create apps around measuring and influencing employee engagement. This looks at how intentions and values for an organization interact with both positive and negative correlation, managed with Neo4j.\\nHow NASA is Using Knowledge Graphs to Find Talent\\nContinuing their tradition of actively using Neo4j, NASA has detailed their use of a talent mapping database to show the relationships between people, skills, and projects in a knowledge graph.\\nSenior data scientist David Meza described this work to Venture Beat. The aim is to look at identifying things like skills, tasks, and technology within a work role and translate that to employees for things like connecting around training around NASA-specific competencies. It will hopefully give the employees an opportunity to explore how to further their careers and better align people across the organization.\\n(from:Kinesis)-[:VIA_SPARK]→(to:Neo4j)\\nAre you interested in streaming large amounts of real-time data into Neo4j? Davide Fantuzzi of LARUS has written a blog post on how to use the Neo4j Spark connector to###Article: #title This Week in Neo4j – Will it Graph, Python Database Backups, Knowledge Graphs, Kinesis, and Kanye West\\n#date 2021-08-07T00:00:00Z\\n#text  and negative correlation, managed with Neo4j.\\nHow NASA is Using Knowledge Graphs to Find Talent\\nContinuing their tradition of actively using Neo4j, NASA has detailed their use of a talent mapping database to show the relationships between people, skills, and projects in a knowledge graph.\\nSenior data scientist David Meza described this work to Venture Beat. The aim is to look at identifying things like skills, tasks, and technology within a work role and translate that to employees for things like connecting around training around NASA-specific competencies. It will hopefully give the employees an opportunity to explore how to further their careers and better align people across the organization.\\n(from:Kinesis)-[:VIA_SPARK]→(to:Neo4j)\\nAre you interested in streaming large amounts of real-time data into Neo4j? Davide Fantuzzi of LARUS has written a blog post on how to use the Neo4j Spark connector to get an AWS Kinesis Data Stream into a Neo4j database. This post includes a complete demonstration of how to set up a proper IAM user, the Kinesis Data Stream, and the Kenesis Data Generator in preparation for data ingested into Neo4j. He then provides the reader with a Docker container that runs an Apache Zeppelin notebook, allowing you to tinker with Spark and Neo4j and then finally explore the graph in the Neo4j browser.\\nSix Degrees of Kanye West\\nHave you ever wanted to be able to calculate the “Kanye Number” for a given artist? Admit it… you have! Neo4j’s own Rik Van Bruggen has written a blog post showing you how (in part 3/3 of this series). Using the data available from Musicbrainz, he has created a fun demo that demonstrates the power of graph databases with some basic Cypher queries to get you started. There are plenty of worked Cypher examples, including calculating the Kanye Number or finding recordings with the most artists, and it concludes with a nice Bloom demonstration.\\nFun to watch the BGG data get put into Neo4j! If you want to use an average that takes into consideration the number of ratings, use the bayes_average_rating (Bayesian Average). This could be quite interesting if the underlying properties of games could be added also. https://t.co/HMXvb5c3XJ\\n— BoardGameGeek (@BoardGameGeek) August 3, 2021'"
      ]
     },
     "execution_count": 16,
     "metadata": {},
     "output_type": "execute_result"
    }
   ],
   "source": [
    "get_organization_news(\n",
    "    organization='neo4j',\n",
    "    sentiment='positive',\n",
    "    topic='remote work'\n",
    ")"
   ]
  },
  {
   "cell_type": "code",
   "execution_count": 17,
   "id": "d2daf2dc-5eb4-4190-be0e-a96396df5fd6",
   "metadata": {},
   "outputs": [],
   "source": [
    "fewshot_examples = \"\"\"{Input:What are the health benefits for Google employees in the news? Topic: Health benefits}\n",
    "{Input: What is the latest positive news about Google? Topic: None}\n",
    "{Input: Are there any news about VertexAI regarding Google? Topic: VertexAI}\n",
    "{Input: Are there any news about new products regarding Google? Topic: new products}\n",
    "\"\"\"\n",
    "\n",
    "class NewsInput(BaseModel):\n",
    "    topic: Optional[str] = Field(\n",
    "        description=\"Any particular topic that the user wants to finds information for. Here are some examples: \"\n",
    "        + fewshot_examples\n",
    "    )\n",
    "    organization: Optional[str] = Field(\n",
    "        description=\"Organization that the user wants to find information about\"\n",
    "    )\n",
    "    country: Optional[str] = Field(\n",
    "        description=\"Country of organizations that the user is interested in. Use full names like United States of America and France.\"\n",
    "    )\n",
    "    sentiment: Optional[str] = Field(\n",
    "        description=\"Sentiment of articles\", enum=[\"positive\", \"negative\"]\n",
    "    )\n"
   ]
  },
  {
   "cell_type": "code",
   "execution_count": 18,
   "id": "4c97da63-2070-4b49-8715-0d011df19543",
   "metadata": {},
   "outputs": [],
   "source": [
    "class NewsTool(BaseTool):\n",
    "    name = \"NewsInformation\"\n",
    "    description = (\n",
    "        \"useful for when you need to find relevant information in the news\"\n",
    "    )\n",
    "    args_schema: Type[BaseModel] = NewsInput\n",
    "\n",
    "    def _run(\n",
    "        self,\n",
    "        topic: Optional[str] = None,\n",
    "        organization: Optional[str] = None,\n",
    "        country: Optional[str] = None,\n",
    "        sentiment: Optional[str] = None,\n",
    "        run_manager: Optional[CallbackManagerForToolRun] = None,\n",
    "    ) -> str:\n",
    "        \"\"\"Use the tool.\"\"\"\n",
    "        return get_organization_news(topic, organization, country, sentiment)\n",
    "\n",
    "    async def _arun(\n",
    "        self,\n",
    "        topic: Optional[str] = None,\n",
    "        organization: Optional[str] = None,\n",
    "        country: Optional[str] = None,\n",
    "        sentiment: Optional[str] = None,\n",
    "        run_manager: Optional[CallbackManagerForToolRun] = None,\n",
    "    ) -> str:\n",
    "        \"\"\"Use the tool asynchronously.\"\"\"\n",
    "        return get_organization_news(topic, organization, country, sentiment)"
   ]
  },
  {
   "cell_type": "code",
   "execution_count": 19,
   "id": "c4a4c00f-a381-43b5-993a-4e7203a6523b",
   "metadata": {},
   "outputs": [],
   "source": [
    "llm = ChatOpenAI(temperature=0, model=\"gpt-4-turbo\", streaming=True)\n",
    "tools = [NewsTool()]\n",
    "\n",
    "llm_with_tools = llm.bind(functions=[convert_to_openai_function(t) for t in tools])\n",
    "\n",
    "prompt = ChatPromptTemplate.from_messages(\n",
    "    [\n",
    "        (\n",
    "            \"system\",\n",
    "            \"You are a helpful assistant that finds information about movies \"\n",
    "            \" and recommends them. If tools require follow up questions, \"\n",
    "            \"make sure to ask the user for clarification. Make sure to include any \"\n",
    "            \"available options that need to be clarified in the follow up questions \"\n",
    "            \"Do only the things the user specifically requested. \",\n",
    "        ),\n",
    "        MessagesPlaceholder(variable_name=\"chat_history\"),\n",
    "        (\"user\", \"{input}\"),\n",
    "        MessagesPlaceholder(variable_name=\"agent_scratchpad\"),\n",
    "    ]\n",
    ")\n",
    "\n",
    "def _format_chat_history(chat_history: List[Tuple[str, str]]):\n",
    "    buffer = []\n",
    "    for human, ai in chat_history:\n",
    "        buffer.append(HumanMessage(content=human))\n",
    "        buffer.append(AIMessage(content=ai))\n",
    "    return buffer\n",
    "\n",
    "\n",
    "agent = (\n",
    "    {\n",
    "        \"input\": lambda x: x[\"input\"],\n",
    "        \"chat_history\": lambda x: _format_chat_history(x[\"chat_history\"])\n",
    "        if x.get(\"chat_history\")\n",
    "        else [],\n",
    "        \"agent_scratchpad\": lambda x: format_to_openai_function_messages(\n",
    "            x[\"intermediate_steps\"]\n",
    "        ),\n",
    "    }\n",
    "    | prompt\n",
    "    | llm_with_tools\n",
    "    | OpenAIFunctionsAgentOutputParser()\n",
    ")\n",
    "\n",
    "agent_executor = AgentExecutor(agent=agent, tools=tools)"
   ]
  },
  {
   "cell_type": "code",
   "execution_count": 20,
   "id": "14058563-f6ef-4cd4-98ce-9a442a741613",
   "metadata": {},
   "outputs": [
    {
     "name": "stdout",
     "output_type": "stream",
     "text": [
      "Cypher: CYPHER runtime = parallel parallelRuntimeSupport=all MATCH (c:Chunk)<-[:HAS_CHUNK]-(a:Article) WHERE EXISTS {(a)-[:MENTIONS]->(:Organization {name: $organization})} AND a.sentiment > $sentiment WITH c, a ORDER BY a.date DESC LIMIT toInteger($k) RETURN '#title ' + a.title + '\n",
      "#date ' + toString(a.date) + '\n",
      "#text ' + c.text AS output\n",
      "\n",
      "Parameters: {'k': 5, 'organization': 'Neo4j', 'sentiment': 0.5}\n"
     ]
    },
    {
     "data": {
      "text/plain": [
       "{'input': 'What are some positive news regarding neo4j?',\n",
       " 'output': \"Here are some positive news regarding Neo4j:\\n\\n1. **New Product Integrations with Generative AI Features in Google Cloud Vertex AI**:\\n   - Neo4j announced a new product integration with Google Cloud's latest generative AI features in Vertex AI. This integration allows enterprise customers to use knowledge graphs built on Neo4j's cloud offerings in Google Cloud Platform for more accurate, transparent, and explainable generative AI insights and recommendations. This partnership, which began in 2019, has enabled various AI use cases across large enterprises and SMBs, ranging from anti-money laundering to personalized recommendations and more.\\n\\n2. **GraphSummit Australia and Graphie Awards**:\\n   - During the 2023 GraphSummit in Australia, Neo4j announced the winners of the 2023 Graphie Awards, recognizing organizations and individuals for outstanding innovation in implementing Neo4j’s graph technology. DXC Technology was awarded for its Excellence in Data Driven Career Development, highlighting the impactful applications of graph technology in addressing significant enterprise challenges.\\n\\nThese developments showcase Neo4j's continued innovation and leadership in graph database technology and its application in modern AI and data analytics solutions.\"}"
      ]
     },
     "execution_count": 20,
     "metadata": {},
     "output_type": "execute_result"
    }
   ],
   "source": [
    "agent_executor.invoke({\"input\": \"What are some positive news regarding neo4j?\"})"
   ]
  },
  {
   "cell_type": "code",
   "execution_count": 21,
   "id": "711b8fdf-871e-4787-96b0-91009440b896",
   "metadata": {},
   "outputs": [
    {
     "name": "stdout",
     "output_type": "stream",
     "text": [
      "Cypher: CYPHER runtime = parallel parallelRuntimeSupport=all MATCH (c:Chunk)<-[:HAS_CHUNK]-(a:Article) WHERE EXISTS {(a)-[:MENTIONS]->(:Organization)-[:IN_CITY]->()-[:IN_COUNTRY]->(:Country {name: $country})} AND a.sentiment < $sentiment WITH c, a, vector.similarity.cosine(c.embedding,$embedding) AS score ORDER BY score DESC LIMIT toInteger($k) RETURN '#title ' + a.title + '\n",
      "#date ' + toString(a.date) + '\n",
      "#text ' + c.text AS output\n",
      "\n",
      "Parameters: {'k': 5, 'country': 'France', 'sentiment': -0.5, 'topic': 'employee happiness'}\n"
     ]
    },
    {
     "data": {
      "text/plain": [
       "{'input': 'What are some of the latest negative news about employee happiness for companies from France?',\n",
       " 'output': 'Here are some of the latest negative news related to employee happiness for companies from France:\\n\\n1. **IBM Whistleblower Case**:\\n   - **Date**: October 13, 2020\\n   - **Summary**: IBM was ordered to pay £22,000 in compensation and two years\\' salary to a British employee who blew the whistle on unlawful working practices within the company. The employee faced retaliation from managers after raising concerns about conditions that could amount to sex discrimination. The tribunal criticized IBM\\'s managers for their lack of understanding of discrimination and the hostile work environment created for the whistleblower.\\n\\n2. **Manufacturing Business Leaders Resist Digital Progress**:\\n   - **Date**: February 1, 2021\\n   - **Summary**: A report titled \"The Connected Enterprise\" highlighted skepticism among manufacturing industry leaders in France regarding the benefits of implementing new business technology. Many leaders doubted the technology\\'s ability to improve efficiency, productivity, and customer relationships. The report also noted that poor implementation of technology could create burdens on employees and that the cost often outweighs the benefits.\\n\\nThese articles reflect concerns about workplace practices and the impact of management decisions on employee happiness and well-being in French companies.'}"
      ]
     },
     "execution_count": 21,
     "metadata": {},
     "output_type": "execute_result"
    }
   ],
   "source": [
    "agent_executor.invoke({\"input\": \"What are some of the latest negative news about employee happiness for companies from France?\"})"
   ]
  },
  {
   "cell_type": "code",
   "execution_count": null,
   "id": "279082b4-ed35-4f78-8739-16c00fa08311",
   "metadata": {},
   "outputs": [],
   "source": []
  }
 ],
 "metadata": {
  "kernelspec": {
   "display_name": "Python 3 (ipykernel)",
   "language": "python",
   "name": "python3"
  },
  "language_info": {
   "codemirror_mode": {
    "name": "ipython",
    "version": 3
   },
   "file_extension": ".py",
   "mimetype": "text/x-python",
   "name": "python",
   "nbconvert_exporter": "python",
   "pygments_lexer": "ipython3",
   "version": "3.11.8"
  }
 },
 "nbformat": 4,
 "nbformat_minor": 5
}
